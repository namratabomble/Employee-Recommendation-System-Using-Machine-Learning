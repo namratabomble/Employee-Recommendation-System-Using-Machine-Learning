{
 "cells": [
  {
   "cell_type": "code",
   "execution_count": 1,
   "metadata": {
    "collapsed": true
   },
   "outputs": [],
   "source": [
    "import numpy as np\n",
    "import matplotlib.pyplot as plt\n",
    "import pandas as pd\n",
    "import seaborn as sns\n",
    "import re\n",
    "from IPython.display import Image\n",
    "%matplotlib inline\n",
    "import warnings\n",
    "warnings.filterwarnings('ignore')"
   ]
  },
  {
   "cell_type": "code",
   "execution_count": 2,
   "metadata": {
    "collapsed": true
   },
   "outputs": [],
   "source": [
    "data = pd.read_csv(\"Book-test.csv\")"
   ]
  },
  {
   "cell_type": "code",
   "execution_count": 3,
   "metadata": {},
   "outputs": [
    {
     "data": {
      "text/html": [
       "<div>\n",
       "<style>\n",
       "    .dataframe thead tr:only-child th {\n",
       "        text-align: right;\n",
       "    }\n",
       "\n",
       "    .dataframe thead th {\n",
       "        text-align: left;\n",
       "    }\n",
       "\n",
       "    .dataframe tbody tr th {\n",
       "        vertical-align: top;\n",
       "    }\n",
       "</style>\n",
       "<table border=\"1\" class=\"dataframe\">\n",
       "  <thead>\n",
       "    <tr style=\"text-align: right;\">\n",
       "      <th></th>\n",
       "      <th>Technical Skills</th>\n",
       "      <th>Academic Performance</th>\n",
       "      <th>Programming Skills</th>\n",
       "      <th>Projects</th>\n",
       "      <th>Internships</th>\n",
       "      <th>Backlog</th>\n",
       "      <th>Placed</th>\n",
       "    </tr>\n",
       "  </thead>\n",
       "  <tbody>\n",
       "    <tr>\n",
       "      <th>0</th>\n",
       "      <td>90</td>\n",
       "      <td>75</td>\n",
       "      <td>90</td>\n",
       "      <td>80</td>\n",
       "      <td>80</td>\n",
       "      <td>0</td>\n",
       "      <td>1</td>\n",
       "    </tr>\n",
       "    <tr>\n",
       "      <th>1</th>\n",
       "      <td>85</td>\n",
       "      <td>70</td>\n",
       "      <td>80</td>\n",
       "      <td>70</td>\n",
       "      <td>75</td>\n",
       "      <td>0</td>\n",
       "      <td>1</td>\n",
       "    </tr>\n",
       "    <tr>\n",
       "      <th>2</th>\n",
       "      <td>90</td>\n",
       "      <td>78</td>\n",
       "      <td>88</td>\n",
       "      <td>85</td>\n",
       "      <td>80</td>\n",
       "      <td>0</td>\n",
       "      <td>1</td>\n",
       "    </tr>\n",
       "    <tr>\n",
       "      <th>3</th>\n",
       "      <td>90</td>\n",
       "      <td>60</td>\n",
       "      <td>80</td>\n",
       "      <td>70</td>\n",
       "      <td>0</td>\n",
       "      <td>0</td>\n",
       "      <td>0</td>\n",
       "    </tr>\n",
       "    <tr>\n",
       "      <th>4</th>\n",
       "      <td>80</td>\n",
       "      <td>88</td>\n",
       "      <td>85</td>\n",
       "      <td>90</td>\n",
       "      <td>80</td>\n",
       "      <td>0</td>\n",
       "      <td>1</td>\n",
       "    </tr>\n",
       "  </tbody>\n",
       "</table>\n",
       "</div>"
      ],
      "text/plain": [
       "   Technical Skills   Academic Performance  Programming Skills  Projects  \\\n",
       "0                 90                    75                  90        80   \n",
       "1                 85                    70                  80        70   \n",
       "2                 90                    78                  88        85   \n",
       "3                 90                    60                  80        70   \n",
       "4                 80                    88                  85        90   \n",
       "\n",
       "   Internships  Backlog   Placed  \n",
       "0           80        0        1  \n",
       "1           75        0        1  \n",
       "2           80        0        1  \n",
       "3            0        0        0  \n",
       "4           80        0        1  "
      ]
     },
     "execution_count": 3,
     "metadata": {},
     "output_type": "execute_result"
    }
   ],
   "source": [
    "# display the first rows in the data\n",
    "data.head()"
   ]
  },
  {
   "cell_type": "code",
   "execution_count": 4,
   "metadata": {},
   "outputs": [
    {
     "data": {
      "text/plain": [
       "Technical Skills        0\n",
       "Academic Performance    0\n",
       "Programming Skills      0\n",
       "Projects                0\n",
       "Internships             0\n",
       "Backlog                 0\n",
       " Placed                 0\n",
       "dtype: int64"
      ]
     },
     "execution_count": 4,
     "metadata": {},
     "output_type": "execute_result"
    }
   ],
   "source": [
    "# check for null values\n",
    "data.isnull().sum()"
   ]
  },
  {
   "cell_type": "code",
   "execution_count": 5,
   "metadata": {},
   "outputs": [
    {
     "data": {
      "image/png": "[encoded data removed]",
      "text/plain": [
       "<matplotlib.figure.Figure at 0x80b4d28978>"
      ]
     },
     "metadata": {},
     "output_type": "display_data"
    }
   ],
   "source": [
    "f,ax=plt.subplots(1,2,figsize=(12,6))\n",
    "data[' Placed'].value_counts().plot.pie(explode=[0,0.1],autopct='%1.1f%%',ax=ax[0],shadow=True)\n",
    "ax[0].set_title(' Placed')\n",
    "ax[0].set_ylabel('')\n",
    "sns.countplot(' Placed',data=data,ax=ax[1])\n",
    "ax[1].set_title('Placed')\n",
    "plt.show()"
   ]
  },
  {
   "cell_type": "code",
   "execution_count": 6,
   "metadata": {},
   "outputs": [
    {
     "data": {
      "text/html": [
       "<div>\n",
       "<style>\n",
       "    .dataframe thead tr:only-child th {\n",
       "        text-align: right;\n",
       "    }\n",
       "\n",
       "    .dataframe thead th {\n",
       "        text-align: left;\n",
       "    }\n",
       "\n",
       "    .dataframe tbody tr th {\n",
       "        vertical-align: top;\n",
       "    }\n",
       "</style>\n",
       "<table border=\"1\" class=\"dataframe\">\n",
       "  <thead>\n",
       "    <tr style=\"text-align: right;\">\n",
       "      <th></th>\n",
       "      <th>Technical Skills</th>\n",
       "      <th>Academic Performance</th>\n",
       "      <th>Programming Skills</th>\n",
       "      <th>Projects</th>\n",
       "      <th>Internships</th>\n",
       "      <th>Backlog</th>\n",
       "      <th>Placed</th>\n",
       "    </tr>\n",
       "  </thead>\n",
       "  <tbody>\n",
       "    <tr>\n",
       "      <th>0</th>\n",
       "      <td>90</td>\n",
       "      <td>75</td>\n",
       "      <td>90</td>\n",
       "      <td>80</td>\n",
       "      <td>80</td>\n",
       "      <td>0</td>\n",
       "      <td>1</td>\n",
       "    </tr>\n",
       "    <tr>\n",
       "      <th>1</th>\n",
       "      <td>85</td>\n",
       "      <td>70</td>\n",
       "      <td>80</td>\n",
       "      <td>70</td>\n",
       "      <td>75</td>\n",
       "      <td>0</td>\n",
       "      <td>1</td>\n",
       "    </tr>\n",
       "    <tr>\n",
       "      <th>2</th>\n",
       "      <td>90</td>\n",
       "      <td>78</td>\n",
       "      <td>88</td>\n",
       "      <td>85</td>\n",
       "      <td>80</td>\n",
       "      <td>0</td>\n",
       "      <td>1</td>\n",
       "    </tr>\n",
       "    <tr>\n",
       "      <th>3</th>\n",
       "      <td>90</td>\n",
       "      <td>60</td>\n",
       "      <td>80</td>\n",
       "      <td>70</td>\n",
       "      <td>0</td>\n",
       "      <td>0</td>\n",
       "      <td>0</td>\n",
       "    </tr>\n",
       "    <tr>\n",
       "      <th>4</th>\n",
       "      <td>80</td>\n",
       "      <td>88</td>\n",
       "      <td>85</td>\n",
       "      <td>90</td>\n",
       "      <td>80</td>\n",
       "      <td>0</td>\n",
       "      <td>1</td>\n",
       "    </tr>\n",
       "  </tbody>\n",
       "</table>\n",
       "</div>"
      ],
      "text/plain": [
       "   Technical Skills   Academic Performance  Programming Skills  Projects  \\\n",
       "0                 90                    75                  90        80   \n",
       "1                 85                    70                  80        70   \n",
       "2                 90                    78                  88        85   \n",
       "3                 90                    60                  80        70   \n",
       "4                 80                    88                  85        90   \n",
       "\n",
       "   Internships  Backlog   Placed  \n",
       "0           80        0        1  \n",
       "1           75        0        1  \n",
       "2           80        0        1  \n",
       "3            0        0        0  \n",
       "4           80        0        1  "
      ]
     },
     "execution_count": 6,
     "metadata": {},
     "output_type": "execute_result"
    }
   ],
   "source": [
    "data = pd.get_dummies(data)\n",
    "data.head()"
   ]
  },
  {
   "cell_type": "code",
   "execution_count": 7,
   "metadata": {
    "collapsed": true
   },
   "outputs": [],
   "source": [
    "# Preparing training data and evaluation data\\\n",
    "from sklearn.model_selection import train_test_split\n",
    "Y=data[' Placed'].values\n",
    "X=data.drop(' Placed',axis=1).values\n",
    "x_train,x_test,y_train,y_test=train_test_split(X,Y,test_size=0.2,random_state=21)"
   ]
  },
  {
   "cell_type": "code",
   "execution_count": 8,
   "metadata": {},
   "outputs": [
    {
     "data": {
      "text/plain": [
       "LogisticRegression(C=1.0, class_weight=None, dual=False, fit_intercept=True,\n",
       "                   intercept_scaling=1, l1_ratio=None, max_iter=100,\n",
       "                   multi_class='auto', n_jobs=None, penalty='l2',\n",
       "                   random_state=None, solver='lbfgs', tol=0.0001, verbose=0,\n",
       "                   warm_start=False)"
      ]
     },
     "execution_count": 8,
     "metadata": {},
     "output_type": "execute_result"
    }
   ],
   "source": [
    "from sklearn.linear_model import LogisticRegression\n",
    "\n",
    "clf = LogisticRegression(fit_intercept=True)\n",
    "clf.fit(x_train, y_train)"
   ]
  },
  {
   "cell_type": "code",
   "execution_count": 9,
   "metadata": {
    "collapsed": true
   },
   "outputs": [],
   "source": [
    "#Predict the response for test dataset\n",
    "y_pred = clf.predict(x_test)"
   ]
  },
  {
   "cell_type": "code",
   "execution_count": 10,
   "metadata": {},
   "outputs": [
    {
     "name": "stdout",
     "output_type": "stream",
     "text": [
      "Accuracy: 0.84\n"
     ]
    }
   ],
   "source": [
    "#Import scikit-learn metrics module for accuracy calculation\n",
    "from sklearn import metrics\n",
    "# Model Accuracy, how often is the classifier correct?\n",
    "print(\"Accuracy:\",metrics.accuracy_score(y_test, y_pred))"
   ]
  },
  {
   "cell_type": "code",
   "execution_count": 11,
   "metadata": {},
   "outputs": [
    {
     "data": {
      "text/plain": [
       "KNeighborsClassifier(algorithm='auto', leaf_size=30, metric='minkowski',\n",
       "                     metric_params=None, n_jobs=None, n_neighbors=7, p=2,\n",
       "                     weights='uniform')"
      ]
     },
     "execution_count": 11,
     "metadata": {},
     "output_type": "execute_result"
    }
   ],
   "source": [
    "#Import knearest neighbors Classifier model\n",
    "from sklearn.neighbors import KNeighborsClassifier\n",
    "\n",
    "#Create KNN Classifier\n",
    "knn = KNeighborsClassifier(n_neighbors=7)\n",
    "\n",
    "#Train the model using the training sets\n",
    "knn.fit(x_train, y_train)"
   ]
  },
  {
   "cell_type": "code",
   "execution_count": 12,
   "metadata": {
    "collapsed": true
   },
   "outputs": [],
   "source": [
    "#Predict the response for test dataset\n",
    "y_pred = knn.predict(x_test)"
   ]
  },
  {
   "cell_type": "code",
   "execution_count": 13,
   "metadata": {},
   "outputs": [
    {
     "name": "stdout",
     "output_type": "stream",
     "text": [
      "Accuracy: 0.88\n"
     ]
    }
   ],
   "source": [
    "#Import scikit-learn metrics module for accuracy calculation\n",
    "from sklearn import metrics\n",
    "# Model Accuracy, how often is the classifier correct?\n",
    "print(\"Accuracy:\",metrics.accuracy_score(y_test, y_pred))"
   ]
  },
  {
   "cell_type": "code",
   "execution_count": 14,
   "metadata": {
    "collapsed": true
   },
   "outputs": [],
   "source": [
    "#Import Gaussian Naive Bayes model\n",
    "from sklearn.naive_bayes import GaussianNB\n",
    "\n",
    "#Create a Gaussian Classifier\n",
    "gnb = GaussianNB()\n",
    "\n",
    "#Train the model using the training sets\n",
    "gnb.fit(x_train, y_train)\n",
    "\n",
    "#Predict the response for test dataset\n",
    "y_pred = gnb.predict(x_test)"
   ]
  },
  {
   "cell_type": "code",
   "execution_count": 15,
   "metadata": {},
   "outputs": [
    {
     "name": "stdout",
     "output_type": "stream",
     "text": [
      "Accuracy: 0.84\n"
     ]
    }
   ],
   "source": [
    "# Model Accuracy, how often is the classifier correct?\n",
    "print(\"Accuracy:\",metrics.accuracy_score(y_test, y_pred))"
   ]
  },
  {
   "cell_type": "code",
   "execution_count": 16,
   "metadata": {},
   "outputs": [
    {
     "name": "stdout",
     "output_type": "stream",
     "text": [
      "bhavin_nirmal.pdf\n",
      "2\n",
      "Backlogs 4\n",
      "1 year\n",
      "1 year\n",
      "CGPA 7.82\n",
      "Java - 90\n",
      "Python - 90\n",
      "JSP - 70\n",
      "ASP - 75\n",
      "PHP - 90\n",
      "SKILLS - \n",
      "['Java', 'Python', 'JSP', 'ASP', 'PHP']\n",
      "RATINGS - \n",
      "[90, 90, 70, 75, 90]\n",
      "PROJECT - \n",
      "83\n",
      "EXPERIENCE - \n",
      "90\n",
      "CGPA - \n",
      "Backlog - \n",
      "4\n",
      "7.82\n",
      "[50, 7.82, 83.0, 83, 90, 4]\n",
      "[[50, 7.82, 83.0, 83, 90, 4]]\n",
      "sayali_pawar.pdf\n",
      "2\n",
      "Backlogs 2\n",
      "1 year\n",
      "Python - 30\n",
      "PHP - 90\n",
      "SKILLS - \n",
      "['Python', 'PHP']\n",
      "RATINGS - \n",
      "[30, 90]\n",
      "PROJECT - \n",
      "60\n",
      "EXPERIENCE - \n",
      "70\n",
      "CGPA - \n",
      "Backlog - \n",
      "2\n",
      "0\n",
      "[20, 0, 60.0, 60, 70, 2]\n",
      "[[50, 7.82, 83.0, 83, 90, 4], [20, 0, 60.0, 60, 70, 2]]\n",
      "['bhavin_nirmal.pdf', 'sayali_pawar.pdf']\n"
     ]
    }
   ],
   "source": [
    "import os\n",
    "import PyPDF2\n",
    "import re\n",
    "import statistics\n",
    "from nltk.tokenize import sent_tokenize,word_tokenize\n",
    "from statistics import mean \n",
    "def extract(l2):\n",
    "    ResSearch=[]\n",
    "    l=[]\n",
    "    l1=[]\n",
    "    skills=[]\n",
    "    ratings=[]\n",
    "    backlogs=0\n",
    "    cgpa=0\n",
    "    experience=[]\n",
    "    internship=[]\n",
    "\n",
    "    # BACKLOGS\n",
    "    for i in range(0,len(l2)):\n",
    "        if(i==len(l2)-3):\n",
    "            break\n",
    "        b1=l2[i]\n",
    "        b3=l2[i+2]\n",
    "        if(b1=='Backlogs' and b3.isdigit()):\n",
    "            print(b1,b3)\n",
    "            backlogs=int(b3)\n",
    "\n",
    "    #experience\n",
    "    for i in range(0,len(l2)):\n",
    "        if(i==len(l2)-3):\n",
    "            break\n",
    "        e1=l2[i]\n",
    "        e2=l2[i+1]\n",
    "\n",
    "        if(e1.isdigit() and e2=='year' or e2=='years'):\n",
    "            print(e1,e2)\n",
    "            experience.append(int(e1))\n",
    "        elif(e1.isdigit() and e2=='month' or e2=='months'):\n",
    "            temp=int(e1)\n",
    "            e1=float(temp/12)\n",
    "            experience.append(e1)\n",
    "    experience=sum(experience)\n",
    "    if(experience<=1.0):\n",
    "        experience=50\n",
    "    elif(experience>1.0 and experience<=2.0):\n",
    "        experience=70\n",
    "    elif(experience>2.0 ):\n",
    "        experience=90\n",
    "    #CGPA\n",
    "    for i in range(0,len(l2)):\n",
    "        if(i==len(l2)-3):\n",
    "            break\n",
    "        b1=l2[i]\n",
    "        b3=l2[i+2]\n",
    "        if(b1=='CGPA' or b1==\"cgpa\" and b3.isdigit()):\n",
    "            print(b1,b3)\n",
    "            cgpa=float(b3)\n",
    "    #SKILLS AND RATINGS\n",
    "    for i in range(0,len(l2)):\n",
    "        if(i==len(l2)-3):\n",
    "            break\n",
    "        else:\n",
    "            t1=l2[i]\n",
    "            t2=l2[i+1]\n",
    "            t3=l2[i+2]\n",
    "            if(t1.isalpha() and t2=='-' and t3.isdigit() and len(t3)==2):\n",
    "                print(t1,t2,t3)\n",
    "                skills.append(t1)\n",
    "                ratings.append(int(t3))\n",
    "            else:\n",
    "                t1=\"\"\n",
    "                t2=\"\"\n",
    "                t3=\"\"\n",
    "                continue\n",
    "    pred=[]\n",
    "    print(\"SKILLS - \")  \n",
    "    print(skills)\n",
    "    l=len(skills)\n",
    "    if(l==0):\n",
    "        technical=0\n",
    "    elif(l<=2):\n",
    "        technical=20\n",
    "    elif(l>2 and l<=5):\n",
    "        technical=50\n",
    "    elif(l>5 and l<=7):\n",
    "        technical=70\n",
    "    elif(l>7):\n",
    "        technical=90\n",
    "    print(\"RATINGS - \")\n",
    "    print(ratings)\n",
    "    sum1=sum(ratings)/len(ratings)\n",
    "\n",
    "    print(\"PROJECT - \")\n",
    "    project=round(sum1)\n",
    "    print(project)\n",
    "    print(\"EXPERIENCE - \")\n",
    "    print(experience)\n",
    "    print(\"CGPA - \")\n",
    "    print(\"Backlog - \")\n",
    "    print(backlogs)\n",
    "    print(cgpa)\n",
    "\n",
    "    pred.append(technical)\n",
    "    pred.append(cgpa)\n",
    "    pred.append(sum1)\n",
    "    pred.append(project)\n",
    "    pred.append(experience)\n",
    "    pred.append(backlogs)\n",
    "    return pred\n",
    "\n",
    "\n",
    "directory = 'C:/Users/Sayali/BEPROJECTJUPYTER/nodejs/upload' # Add path to your upload folder\n",
    "pred=[]\n",
    "file=[]\n",
    "for filename in os.listdir(directory):\n",
    "    if filename.endswith(\".pdf\"):\n",
    "        print(filename)\n",
    "        file.append(filename)\n",
    "        f = open(filename)\n",
    "        name=f.name\n",
    "        mypdf=open(name, mode='rb')\n",
    "        reader=PyPDF2.PdfFileReader(mypdf)\n",
    "        n_of_pages = reader.numPages\n",
    "        print(reader.numPages)\n",
    "        resume_text=\"\"\n",
    "        page=0\n",
    "        for i in range(0,n_of_pages):\n",
    "            page=reader.getPage(i)\n",
    "            resume_text+=page.extractText()\n",
    "        text1=resume_text\n",
    "        l2=word_tokenize(text1)\n",
    "        x=extract(l2)\n",
    "        print(x)\n",
    "        pred.append(x)\n",
    "        print(pred)\n",
    "        \n",
    "        continue\n",
    "    else:\n",
    "        continue\n",
    "print(file)\n"
   ]
  },
  {
   "cell_type": "code",
   "execution_count": 17,
   "metadata": {},
   "outputs": [
    {
     "name": "stdout",
     "output_type": "stream",
     "text": [
      "[1]\n",
      "bhavin_nirmal.pdf  is Selected.\n",
      "[0]\n",
      "sayali_pawar.pdf  is not Selected.\n"
     ]
    }
   ],
   "source": [
    "#Predict Output\n",
    "for i in range(0,len(pred)):\n",
    "    predicted= knn.predict([pred[i]])# 0:Overcast, 2:Mild\n",
    "    print(predicted)\n",
    "    if(predicted==1):\n",
    "        print(file[i],\" is Selected.\")\n",
    "    else:\n",
    "        print(file[i],\" is not Selected.\")"
   ]
  },
  {
   "cell_type": "code",
   "execution_count": 18,
   "metadata": {},
   "outputs": [
    {
     "name": "stdout",
     "output_type": "stream",
     "text": [
      "C:/Users/Sayali/BEPROJECTJUPYTER/nodejs/upload/bhavin_nirmal.pdf\n"
     ]
    }
   ],
   "source": [
    "import os\n",
    "import shutil\n",
    "for i in range(0,len(pred)):\n",
    "    predicted= knn.predict([pred[i]])# 0:Overcast, 2:Mild\n",
    "    filename=file[i]\n",
    "    if(predicted==1):\n",
    "        source='C:/Users/Sayali/BEPROJECTJUPYTER/nodejs/upload/'+filename #Path to your upload folder\n",
    "        print(source)\n",
    "        destination='C:/Users/Sayali/BEPROJECTJUPYTER/nodejs/Selected_Candidates/' #path to your Selected_Candidates folder\n",
    "        dest =shutil.copy(source,destination)"
   ]
  },
  {
   "cell_type": "code",
   "execution_count": null,
   "metadata": {},
   "outputs": [],
   "source": [
    "\n"
   ]
  },
  {
   "cell_type": "code",
   "execution_count": null,
   "metadata": {
    "collapsed": true
   },
   "outputs": [],
   "source": []
  }
 ],
 "metadata": {
  "kernelspec": {
   "display_name": "Python 3",
   "language": "python",
   "name": "python3"
  },
  "language_info": {
   "codemirror_mode": {
    "name": "ipython",
    "version": 3
   },
   "file_extension": ".py",
   "mimetype": "text/x-python",
   "name": "python",
   "nbconvert_exporter": "python",
   "pygments_lexer": "ipython3",
   "version": "3.7.6"
  }
 },
 "nbformat": 4,
 "nbformat_minor": 2
}
